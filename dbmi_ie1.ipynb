{
  "nbformat": 4,
  "nbformat_minor": 0,
  "metadata": {
    "colab": {
      "provenance": [],
      "include_colab_link": true
    },
    "kernelspec": {
      "name": "python3",
      "display_name": "Python 3"
    },
    "language_info": {
      "name": "python"
    }
  },
  "cells": [
    {
      "cell_type": "markdown",
      "metadata": {
        "id": "view-in-github",
        "colab_type": "text"
      },
      "source": [
        "<a href=\"https://colab.research.google.com/github/parshadk/DataMining/blob/main/dbmi_ie1.ipynb\" target=\"_parent\"><img src=\"https://colab.research.google.com/assets/colab-badge.svg\" alt=\"Open In Colab\"/></a>"
      ]
    },
    {
      "cell_type": "code",
      "execution_count": null,
      "metadata": {
        "colab": {
          "base_uri": "https://localhost:8080/"
        },
        "id": "lWqh1whTb3Gy",
        "outputId": "e01b49ac-c899-481a-bce1-e1596068b68d"
      },
      "outputs": [
        {
          "output_type": "stream",
          "name": "stdout",
          "text": [
            "Dataset Shape: (920, 16)\n",
            "   id  age     sex    dataset               cp  trestbps   chol    fbs  \\\n",
            "0   1   63    Male  Cleveland   typical angina     145.0  233.0   True   \n",
            "1   2   67    Male  Cleveland     asymptomatic     160.0  286.0  False   \n",
            "2   3   67    Male  Cleveland     asymptomatic     120.0  229.0  False   \n",
            "3   4   37    Male  Cleveland      non-anginal     130.0  250.0  False   \n",
            "4   5   41  Female  Cleveland  atypical angina     130.0  204.0  False   \n",
            "\n",
            "          restecg  thalch  exang  oldpeak        slope   ca  \\\n",
            "0  lv hypertrophy   150.0  False      2.3  downsloping  0.0   \n",
            "1  lv hypertrophy   108.0   True      1.5         flat  3.0   \n",
            "2  lv hypertrophy   129.0   True      2.6         flat  2.0   \n",
            "3          normal   187.0  False      3.5  downsloping  0.0   \n",
            "4  lv hypertrophy   172.0  False      1.4    upsloping  0.0   \n",
            "\n",
            "                thal  num  \n",
            "0       fixed defect    0  \n",
            "1             normal    2  \n",
            "2  reversable defect    1  \n",
            "3             normal    0  \n",
            "4             normal    0  \n"
          ]
        }
      ],
      "source": [
        "import pandas as pd\n",
        "import numpy as np\n",
        "\n",
        "np.random.seed(42)\n",
        "df = pd.read_csv('heart.csv')\n",
        "print(\"Dataset Shape:\", df.shape)\n",
        "print(df.head())"
      ]
    },
    {
      "cell_type": "code",
      "source": [
        "print(\"\\nMissing Values:\\n\", df.isnull().sum())\n",
        "print(\"\\nSummary Statistics:\\n\", df.describe())"
      ],
      "metadata": {
        "colab": {
          "base_uri": "https://localhost:8080/"
        },
        "id": "nXNl13rhca9l",
        "outputId": "f1d0a97d-869e-4d43-c608-87aff9a25d47"
      },
      "execution_count": null,
      "outputs": [
        {
          "output_type": "stream",
          "name": "stdout",
          "text": [
            "\n",
            "Missing Values:\n",
            " id            0\n",
            "age           0\n",
            "sex           0\n",
            "dataset       0\n",
            "cp            0\n",
            "trestbps     59\n",
            "chol         30\n",
            "fbs          90\n",
            "restecg       2\n",
            "thalch       55\n",
            "exang        55\n",
            "oldpeak      62\n",
            "slope       309\n",
            "ca          611\n",
            "thal        486\n",
            "num           0\n",
            "dtype: int64\n",
            "\n",
            "Summary Statistics:\n",
            "                id         age    trestbps        chol      thalch     oldpeak  \\\n",
            "count  920.000000  920.000000  861.000000  890.000000  865.000000  858.000000   \n",
            "mean   460.500000   53.510870  132.132404  199.130337  137.545665    0.878788   \n",
            "std    265.725422    9.424685   19.066070  110.780810   25.926276    1.091226   \n",
            "min      1.000000   28.000000    0.000000    0.000000   60.000000   -2.600000   \n",
            "25%    230.750000   47.000000  120.000000  175.000000  120.000000    0.000000   \n",
            "50%    460.500000   54.000000  130.000000  223.000000  140.000000    0.500000   \n",
            "75%    690.250000   60.000000  140.000000  268.000000  157.000000    1.500000   \n",
            "max    920.000000   77.000000  200.000000  603.000000  202.000000    6.200000   \n",
            "\n",
            "               ca         num  \n",
            "count  309.000000  920.000000  \n",
            "mean     0.676375    0.995652  \n",
            "std      0.935653    1.142693  \n",
            "min      0.000000    0.000000  \n",
            "25%      0.000000    0.000000  \n",
            "50%      0.000000    1.000000  \n",
            "75%      1.000000    2.000000  \n",
            "max      3.000000    4.000000  \n"
          ]
        }
      ]
    },
    {
      "cell_type": "code",
      "source": [
        "import matplotlib.pyplot as plt\n",
        "import seaborn as sns\n",
        "\n",
        "plt.figure(figsize=(6, 4))\n",
        "sns.countplot(x='num', data=df)\n",
        "plt.title('Distribution of Heart Disease (Target)')\n",
        "plt.show()"
      ],
      "metadata": {
        "colab": {
          "base_uri": "https://localhost:8080/",
          "height": 410
        },
        "id": "VpaGcaY9ciPg",
        "outputId": "9ffc4f03-7bf2-461d-c9d5-5be8d0fa597c"
      },
      "execution_count": null,
      "outputs": [
        {
          "output_type": "display_data",
          "data": {
            "text/plain": [
              "<Figure size 600x400 with 1 Axes>"
            ],
            "image/png": "[encoded data removed]"
          },
          "metadata": {}
        }
      ]
    },
    {
      "cell_type": "code",
      "source": [
        "plt.figure(figsize=(8, 5))\n",
        "sns.boxplot(x='num', y='age', data=df)\n",
        "plt.title('Age Distribution by Heart Disease')\n",
        "plt.show()"
      ],
      "metadata": {
        "colab": {
          "base_uri": "https://localhost:8080/",
          "height": 487
        },
        "id": "r6oSRiIvea2N",
        "outputId": "69b2cbbb-e4ad-4900-8038-93172384d334"
      },
      "execution_count": null,
      "outputs": [
        {
          "output_type": "display_data",
          "data": {
            "text/plain": [
              "<Figure size 800x500 with 1 Axes>"
            ],
            "image/png": "[encoded data removed]"
          },
          "metadata": {}
        }
      ]
    },
    {
      "cell_type": "code",
      "source": [
        "X = df.drop('num', axis=1)\n",
        "y = df['num']"
      ],
      "metadata": {
        "id": "zLuWxJYaenrS"
      },
      "execution_count": null,
      "outputs": []
    },
    {
      "cell_type": "code",
      "source": [
        "import pandas as pd\n",
        "from sklearn.model_selection import train_test_split, cross_val_score\n",
        "from sklearn.preprocessing import StandardScaler\n",
        "from sklearn.impute import SimpleImputer\n",
        "from sklearn.linear_model import LogisticRegression\n",
        "from sklearn.neighbors import KNeighborsClassifier\n",
        "from sklearn.ensemble import RandomForestClassifier\n",
        "from sklearn.metrics import accuracy_score, precision_score, recall_score, f1_score, roc_auc_score, roc_curve\n",
        "\n",
        "\n",
        "X = df.drop('num', axis=1)\n",
        "y = df['num']\n",
        "\n",
        "categorical_cols = X.select_dtypes(include=['object']).columns\n",
        "if len(categorical_cols) > 0:\n",
        "    X = pd.get_dummies(X, columns=categorical_cols, drop_first=True)\n",
        "\n",
        "X_train, X_test, y_train, y_test = train_test_split(X, y, test_size=0.2, random_state=42)\n",
        "\n",
        "imputer = SimpleImputer(strategy='mean')\n",
        "X_train_imputed = imputer.fit_transform(X_train)\n",
        "X_test_imputed = imputer.transform(X_test)\n",
        "\n",
        "scaler = StandardScaler()\n",
        "X_train_scaled = scaler.fit_transform(X_train_imputed)\n",
        "X_test_scaled = scaler.transform(X_test_imputed)\n",
        "\n",
        "models = {\n",
        "    'Logistic Regression': LogisticRegression(max_iter=1000, multi_class='ovr'),  # Explicitly multiclass\n",
        "    'K-Nearest Neighbors': KNeighborsClassifier(n_neighbors=5),\n",
        "    'Random Forest': RandomForestClassifier(n_estimators=100, random_state=42)\n",
        "}\n",
        "\n",
        "results = []\n",
        "for name, model in models.items():\n",
        "    model.fit(X_train_scaled, y_train)\n",
        "    y_pred = model.predict(X_test_scaled)\n",
        "    y_prob = model.predict_proba(X_test_scaled)\n",
        "\n",
        "    print(f\"\\nModel: {name}\")\n",
        "    print(\"y_test unique values:\", y_test.unique())\n",
        "    print(\"y_prob shape:\", y_prob.shape)\n",
        "\n",
        "    accuracy = accuracy_score(y_test, y_pred)\n",
        "    precision = precision_score(y_test, y_pred, average='weighted')\n",
        "    recall = recall_score(y_test, y_pred, average='weighted')\n",
        "    f1 = f1_score(y_test, y_pred, average='weighted')\n",
        "    auc = roc_auc_score(y_test, y_prob, multi_class='ovr')\n",
        "\n",
        "    results.append([name, accuracy, precision, recall, f1, auc])\n",
        "\n",
        "results_df = pd.DataFrame(results, columns=['Model', 'Accuracy', 'Precision', 'Recall', 'F1-Score', 'ROC-AUC'])\n",
        "print(\"\\nModel Comparison:\\n\", results_df)"
      ],
      "metadata": {
        "colab": {
          "base_uri": "https://localhost:8080/"
        },
        "id": "_J0XRR-MeuP_",
        "outputId": "69a7505d-fc9e-4da8-e4d8-8c4a12af664f"
      },
      "execution_count": null,
      "outputs": [
        {
          "output_type": "stream",
          "name": "stderr",
          "text": [
            "/usr/local/lib/python3.11/dist-packages/sklearn/linear_model/_logistic.py:1256: FutureWarning: 'multi_class' was deprecated in version 1.5 and will be removed in 1.7. Use OneVsRestClassifier(LogisticRegression(..)) instead. Leave it to its default value to avoid this warning.\n",
            "  warnings.warn(\n",
            "/usr/local/lib/python3.11/dist-packages/sklearn/metrics/_classification.py:1565: UndefinedMetricWarning: Precision is ill-defined and being set to 0.0 in labels with no predicted samples. Use `zero_division` parameter to control this behavior.\n",
            "  _warn_prf(average, modifier, f\"{metric.capitalize()} is\", len(result))\n"
          ]
        },
        {
          "output_type": "stream",
          "name": "stdout",
          "text": [
            "\n",
            "Model: Logistic Regression\n",
            "y_test unique values: [0 1 3 2 4]\n",
            "y_prob shape: (184, 5)\n",
            "\n",
            "Model: K-Nearest Neighbors\n",
            "y_test unique values: [0 1 3 2 4]\n",
            "y_prob shape: (184, 5)\n",
            "\n",
            "Model: Random Forest\n",
            "y_test unique values: [0 1 3 2 4]\n",
            "y_prob shape: (184, 5)\n",
            "\n",
            "Model Comparison:\n",
            "                  Model  Accuracy  Precision    Recall  F1-Score   ROC-AUC\n",
            "0  Logistic Regression  0.538043   0.427298  0.538043  0.470453  0.821241\n",
            "1  K-Nearest Neighbors  0.532609   0.486052  0.532609  0.505321  0.701050\n",
            "2        Random Forest  0.614130   0.563204  0.614130  0.577179  0.833329\n"
          ]
        }
      ]
    },
    {
      "cell_type": "code",
      "source": [
        "pip install xgboost"
      ],
      "metadata": {
        "colab": {
          "base_uri": "https://localhost:8080/"
        },
        "id": "LBWyG_Y0jF7M",
        "outputId": "c4ebb22b-160b-486c-fd4f-5b55984ce0a0"
      },
      "execution_count": null,
      "outputs": [
        {
          "output_type": "stream",
          "name": "stdout",
          "text": [
            "Requirement already satisfied: xgboost in /usr/local/lib/python3.11/dist-packages (2.1.4)\n",
            "Requirement already satisfied: numpy in /usr/local/lib/python3.11/dist-packages (from xgboost) (2.0.2)\n",
            "Requirement already satisfied: nvidia-nccl-cu12 in /usr/local/lib/python3.11/dist-packages (from xgboost) (2.21.5)\n",
            "Requirement already satisfied: scipy in /usr/local/lib/python3.11/dist-packages (from xgboost) (1.14.1)\n"
          ]
        }
      ]
    },
    {
      "cell_type": "code",
      "source": [
        "def remove_outliers(df, column):\n",
        "    Q1 = df[column].quantile(0.25)\n",
        "    Q3 = df[column].quantile(0.75)\n",
        "    IQR = Q3 - Q1\n",
        "    lower_bound = Q1 - 1.5 * IQR\n",
        "    upper_bound = Q3 + 1.5 * IQR\n",
        "    df = df[(df[column] >= lower_bound) & (df[column] <= upper_bound)]\n",
        "    return df\n",
        "\n",
        "# Apply to key numeric columns\n",
        "for col in ['age', 'trestbps', 'chol', 'thalch']:\n",
        "    df = remove_outliers(df, col)"
      ],
      "metadata": {
        "id": "wl1PGLvXjq1j"
      },
      "execution_count": null,
      "outputs": []
    },
    {
      "cell_type": "code",
      "source": [
        "import pandas as pd\n",
        "from sklearn.model_selection import train_test_split, cross_val_score\n",
        "from sklearn.preprocessing import StandardScaler\n",
        "from sklearn.impute import SimpleImputer\n",
        "from sklearn.linear_model import LogisticRegression\n",
        "from sklearn.neighbors import KNeighborsClassifier\n",
        "from sklearn.ensemble import RandomForestClassifier\n",
        "from sklearn.metrics import accuracy_score, precision_score, recall_score, f1_score, roc_auc_score, roc_curve\n",
        "from xgboost import XGBClassifier\n",
        "from sklearn.svm import SVC\n",
        "\n",
        "# Define features (X) and target (y)\n",
        "X = df.drop('num', axis=1)\n",
        "y = df['num']\n",
        "\n",
        "categorical_cols = X.select_dtypes(include=['object']).columns\n",
        "if len(categorical_cols) > 0:\n",
        "    X = pd.get_dummies(X, columns=categorical_cols, drop_first=True)\n",
        "\n",
        "\n",
        "X_train, X_test, y_train, y_test = train_test_split(X, y, test_size=0.2, random_state=42)\n",
        "\n",
        "imputer = SimpleImputer(strategy='mean')\n",
        "X_train_imputed = imputer.fit_transform(X_train)\n",
        "X_test_imputed = imputer.transform(X_test)\n",
        "\n",
        "scaler = StandardScaler()\n",
        "X_train_scaled = scaler.fit_transform(X_train_imputed)\n",
        "X_test_scaled = scaler.transform(X_test_imputed)\n",
        "\n",
        "\n",
        "models = {\n",
        "    'Logistic Regression': LogisticRegression(max_iter=1000, multi_class='ovr'),\n",
        "    'K-Nearest Neighbors': KNeighborsClassifier(n_neighbors=5),\n",
        "    'Random Forest': RandomForestClassifier(n_estimators=100, random_state=42),\n",
        "    'XGBoost': XGBClassifier(n_estimators=100, learning_rate=0.1, max_depth=5, random_state=42, use_label_encoder=False, eval_metric='mlogloss'),\n",
        "    'SVM': SVC(kernel='rbf', probability=True, class_weight='balanced', random_state=42)\n",
        "}\n",
        "\n",
        "results = []\n",
        "for name, model in models.items():\n",
        "    model.fit(X_train_scaled, y_train)\n",
        "    y_pred = model.predict(X_test_scaled)\n",
        "    y_prob = model.predict_proba(X_test_scaled)\n",
        "\n",
        "    accuracy = accuracy_score(y_test, y_pred)\n",
        "    precision = precision_score(y_test, y_pred, average='weighted')\n",
        "    recall = recall_score(y_test, y_pred, average='weighted')\n",
        "    f1 = f1_score(y_test, y_pred, average='weighted')\n",
        "    auc = roc_auc_score(y_test, y_prob, multi_class='ovr')\n",
        "\n",
        "    results.append([name, accuracy, precision, recall, f1, auc])\n",
        "    print(f\"{name} Accuracy: {accuracy:.4f}\")\n",
        "\n",
        "results_df = pd.DataFrame(results, columns=['Model', 'Accuracy', 'Precision', 'Recall', 'F1-Score', 'ROC-AUC'])\n",
        "print(\"\\nModel Comparison:\\n\", results_df)"
      ],
      "metadata": {
        "colab": {
          "base_uri": "https://localhost:8080/"
        },
        "id": "3dbnKTV_kEyZ",
        "outputId": "f5584ed4-fc80-4f42-8702-d5af9b7ee926"
      },
      "execution_count": null,
      "outputs": [
        {
          "output_type": "stream",
          "name": "stderr",
          "text": [
            "/usr/local/lib/python3.11/dist-packages/sklearn/linear_model/_logistic.py:1256: FutureWarning: 'multi_class' was deprecated in version 1.5 and will be removed in 1.7. Use OneVsRestClassifier(LogisticRegression(..)) instead. Leave it to its default value to avoid this warning.\n",
            "  warnings.warn(\n",
            "/usr/local/lib/python3.11/dist-packages/sklearn/metrics/_classification.py:1565: UndefinedMetricWarning: Precision is ill-defined and being set to 0.0 in labels with no predicted samples. Use `zero_division` parameter to control this behavior.\n",
            "  _warn_prf(average, modifier, f\"{metric.capitalize()} is\", len(result))\n",
            "/usr/local/lib/python3.11/dist-packages/sklearn/metrics/_classification.py:1565: UndefinedMetricWarning: Precision is ill-defined and being set to 0.0 in labels with no predicted samples. Use `zero_division` parameter to control this behavior.\n",
            "  _warn_prf(average, modifier, f\"{metric.capitalize()} is\", len(result))\n"
          ]
        },
        {
          "output_type": "stream",
          "name": "stdout",
          "text": [
            "Logistic Regression Accuracy: 0.5984\n",
            "K-Nearest Neighbors Accuracy: 0.5827\n"
          ]
        },
        {
          "output_type": "stream",
          "name": "stderr",
          "text": [
            "/usr/local/lib/python3.11/dist-packages/sklearn/metrics/_classification.py:1565: UndefinedMetricWarning: Precision is ill-defined and being set to 0.0 in labels with no predicted samples. Use `zero_division` parameter to control this behavior.\n",
            "  _warn_prf(average, modifier, f\"{metric.capitalize()} is\", len(result))\n",
            "/usr/local/lib/python3.11/dist-packages/xgboost/core.py:158: UserWarning: [15:17:50] WARNING: /workspace/src/learner.cc:740: \n",
            "Parameters: { \"use_label_encoder\" } are not used.\n",
            "\n",
            "  warnings.warn(smsg, UserWarning)\n"
          ]
        },
        {
          "output_type": "stream",
          "name": "stdout",
          "text": [
            "Random Forest Accuracy: 0.6299\n",
            "XGBoost Accuracy: 0.6378\n",
            "SVM Accuracy: 0.6299\n",
            "\n",
            "Model Comparison:\n",
            "                  Model  Accuracy  Precision    Recall  F1-Score   ROC-AUC\n",
            "0  Logistic Regression  0.598425   0.558874  0.598425  0.575813  0.806316\n",
            "1  K-Nearest Neighbors  0.582677   0.593204  0.582677  0.566217  0.740972\n",
            "2        Random Forest  0.629921   0.596590  0.629921  0.603586  0.835259\n",
            "3              XGBoost  0.637795   0.619326  0.637795  0.623389  0.857262\n",
            "4                  SVM  0.629921   0.652758  0.629921  0.637141  0.818288\n"
          ]
        }
      ]
    },
    {
      "cell_type": "code",
      "source": [
        "import pandas as pd\n",
        "import numpy as np\n",
        "from sklearn.model_selection import train_test_split, cross_val_score\n",
        "from sklearn.preprocessing import StandardScaler, PolynomialFeatures\n",
        "from sklearn.impute import KNNImputer\n",
        "from sklearn.linear_model import LogisticRegression\n",
        "from sklearn.neighbors import KNeighborsClassifier\n",
        "from sklearn.ensemble import RandomForestClassifier, StackingClassifier\n",
        "from sklearn.svm import SVC\n",
        "from sklearn.linear_model import LogisticRegression\n",
        "from sklearn.metrics import accuracy_score, precision_score, recall_score, f1_score, roc_auc_score\n",
        "from xgboost import XGBClassifier\n",
        "from sklearn.utils.class_weight import compute_class_weight\n",
        "\n",
        "df = pd.read_csv('heart.csv')\n",
        "print(\"Class Distribution (Original):\\n\", df['num'].value_counts(normalize=True))\n",
        "\n",
        "df['target_binary'] = df['num'].apply(lambda x: 0 if x == 0 else 1)\n",
        "print(\"Binary Class Distribution:\\n\", df['target_binary'].value_counts(normalize=True))\n",
        "\n",
        "X = df.drop(['num', 'target_binary'], axis=1)\n",
        "y = df['target_binary']\n",
        "\n",
        "categorical_cols = X.select_dtypes(include=['object']).columns\n",
        "if len(categorical_cols) > 0:\n",
        "    X = pd.get_dummies(X, columns=categorical_cols, drop_first=True)\n",
        "df = pd.concat([X, df[['num', 'target_binary']]], axis=1)\n",
        "\n",
        "\n",
        "def remove_outliers(df, column):\n",
        "    if column not in df.columns:\n",
        "        print(f\"Column '{column}' not found in DataFrame. Skipping outlier removal for this column.\")\n",
        "        return df\n",
        "    Q1 = df[column].quantile(0.25)\n",
        "    Q3 = df[column].quantile(0.75)\n",
        "    IQR = Q3 - Q1\n",
        "    lower_bound = Q1 - 1.5 * IQR\n",
        "    upper_bound = Q3 + 1.5 * IQR\n",
        "    df = df[(df[column] >= lower_bound) & (df[column] <= upper_bound)]\n",
        "    return df\n",
        "\n",
        "numeric_cols = ['age', 'trestbps', 'chol', 'max_heart_rate']\n",
        "for col in numeric_cols:\n",
        "    df = remove_outliers(df, col)\n",
        "\n",
        "# Recompute X and y after outlier removal\n",
        "X = df.drop(['num', 'target_binary'], axis=1)\n",
        "y = df['target_binary']\n",
        "\n",
        "# Split data\n",
        "X_train, X_test, y_train, y_test = train_test_split(X, y, test_size=0.2, random_state=42)\n",
        "\n",
        "# Impute with KNN\n",
        "imputer = KNNImputer(n_neighbors=5)\n",
        "X_train_imputed = imputer.fit_transform(X_train)\n",
        "X_test_imputed = imputer.transform(X_test)\n",
        "\n",
        "# Scale features\n",
        "scaler = StandardScaler()\n",
        "X_train_scaled = scaler.fit_transform(X_train_imputed)\n",
        "X_test_scaled = scaler.transform(X_test_imputed)\n",
        "\n",
        "# Compute class weights\n",
        "classes = np.unique(y_train)\n",
        "weights = compute_class_weight('balanced', classes=classes, y=y_train)\n",
        "class_weight_dict = dict(zip(range(len(classes)), weights))\n",
        "\n",
        "# Define base models for stacking\n",
        "base_models = [\n",
        "    ('rf', RandomForestClassifier(n_estimators=200, max_depth=20, class_weight='balanced', random_state=42)),\n",
        "    ('xgb', XGBClassifier(n_estimators=100, learning_rate=0.1, max_depth=5, random_state=42, eval_metric='logloss')),\n",
        "    ('svm', SVC(kernel='rbf', probability=True, class_weight='balanced', random_state=42))\n",
        "]\n",
        "\n",
        "# Define models (including stacking)\n",
        "models = {\n",
        "    'Logistic Regression': LogisticRegression(max_iter=1000, multi_class='ovr'),\n",
        "    'K-Nearest Neighbors': KNeighborsClassifier(n_neighbors=5),\n",
        "    'Random Forest': RandomForestClassifier(n_estimators=200, max_depth=20, class_weight='balanced', random_state=42),\n",
        "    'XGBoost': XGBClassifier(n_estimators=100, learning_rate=0.1, max_depth=5, random_state=42, eval_metric='logloss'),\n",
        "    'SVM': SVC(kernel='rbf', probability=True, class_weight='balanced', random_state=42),\n",
        "    'Stacking': StackingClassifier(estimators=base_models, final_estimator=LogisticRegression(max_iter=1000), cv=5)\n",
        "}\n",
        "\n",
        "results = []\n",
        "for name, model in models.items():\n",
        "    if name == 'XGBoost':\n",
        "        model.set_params(**{'scale_pos_weight': weights.mean()})\n",
        "    model.fit(X_train_scaled, y_train)\n",
        "    y_pred = model.predict(X_test_scaled)\n",
        "    y_prob = model.predict_proba(X_test_scaled)\n",
        "\n",
        "    accuracy = accuracy_score(y_test, y_pred)\n",
        "    precision = precision_score(y_test, y_pred)  # Binary, no average needed\n",
        "    recall = recall_score(y_test, y_pred)\n",
        "    f1 = f1_score(y_test, y_pred)\n",
        "    auc = roc_auc_score(y_test, y_prob[:, 1])  # Binary ROC-AUC\n",
        "\n",
        "    results.append([name, accuracy, precision, recall, f1, auc])\n",
        "    print(f\"{name} Accuracy: {accuracy:.4f}\")\n",
        "\n",
        "# Display results\n",
        "results_df = pd.DataFrame(results, columns=['Model', 'Accuracy', 'Precision', 'Recall', 'F1-Score', 'ROC-AUC'])\n",
        "print(\"\\nModel Comparison:\\n\", results_df)\n",
        "\n",
        "for name, model in models.items():\n",
        "    cv_scores = cross_val_score(model, X_train_scaled, y_train, cv=5, scoring='accuracy')\n",
        "    print(f\"{name} CV Accuracy: {cv_scores.mean():.4f} ± {cv_scores.std():.4f}\")"
      ],
      "metadata": {
        "colab": {
          "base_uri": "https://localhost:8080/"
        },
        "id": "iChLKatVvlg6",
        "outputId": "24b67127-ade7-4427-d0aa-0319b8142acb"
      },
      "execution_count": null,
      "outputs": [
        {
          "output_type": "stream",
          "name": "stdout",
          "text": [
            "Class Distribution (Original):\n",
            " num\n",
            "0    0.446739\n",
            "1    0.288043\n",
            "2    0.118478\n",
            "3    0.116304\n",
            "4    0.030435\n",
            "Name: proportion, dtype: float64\n",
            "Binary Class Distribution:\n",
            " target_binary\n",
            "1    0.553261\n",
            "0    0.446739\n",
            "Name: proportion, dtype: float64\n",
            "Column 'max_heart_rate' not found in DataFrame. Skipping outlier removal for this column.\n",
            "Logistic Regression Accuracy: 0.8217\n",
            "K-Nearest Neighbors Accuracy: 0.8295\n"
          ]
        },
        {
          "output_type": "stream",
          "name": "stderr",
          "text": [
            "/usr/local/lib/python3.11/dist-packages/sklearn/linear_model/_logistic.py:1256: FutureWarning: 'multi_class' was deprecated in version 1.5 and will be removed in 1.7. Use OneVsRestClassifier(LogisticRegression(..)) instead. Leave it to its default value to avoid this warning.\n",
            "  warnings.warn(\n"
          ]
        },
        {
          "output_type": "stream",
          "name": "stdout",
          "text": [
            "Random Forest Accuracy: 0.8682\n",
            "XGBoost Accuracy: 0.8605\n",
            "SVM Accuracy: 0.8217\n",
            "Stacking Accuracy: 0.8760\n",
            "\n",
            "Model Comparison:\n",
            "                  Model  Accuracy  Precision    Recall  F1-Score   ROC-AUC\n",
            "0  Logistic Regression  0.821705   0.786885  0.827586  0.806723  0.889267\n",
            "1  K-Nearest Neighbors  0.829457   0.781250  0.862069  0.819672  0.886231\n",
            "2        Random Forest  0.868217   0.825397  0.896552  0.859504  0.938927\n",
            "3              XGBoost  0.860465   0.812500  0.896552  0.852459  0.935891\n",
            "4                  SVM  0.821705   0.761194  0.879310  0.816000  0.909665\n",
            "5             Stacking  0.875969   0.828125  0.913793  0.868852  0.940748\n",
            "Logistic Regression CV Accuracy: 0.8560 ± 0.0240\n",
            "K-Nearest Neighbors CV Accuracy: 0.8152 ± 0.0100\n"
          ]
        },
        {
          "output_type": "stream",
          "name": "stderr",
          "text": [
            "/usr/local/lib/python3.11/dist-packages/sklearn/linear_model/_logistic.py:1256: FutureWarning: 'multi_class' was deprecated in version 1.5 and will be removed in 1.7. Use OneVsRestClassifier(LogisticRegression(..)) instead. Leave it to its default value to avoid this warning.\n",
            "  warnings.warn(\n",
            "/usr/local/lib/python3.11/dist-packages/sklearn/linear_model/_logistic.py:1256: FutureWarning: 'multi_class' was deprecated in version 1.5 and will be removed in 1.7. Use OneVsRestClassifier(LogisticRegression(..)) instead. Leave it to its default value to avoid this warning.\n",
            "  warnings.warn(\n",
            "/usr/local/lib/python3.11/dist-packages/sklearn/linear_model/_logistic.py:1256: FutureWarning: 'multi_class' was deprecated in version 1.5 and will be removed in 1.7. Use OneVsRestClassifier(LogisticRegression(..)) instead. Leave it to its default value to avoid this warning.\n",
            "  warnings.warn(\n",
            "/usr/local/lib/python3.11/dist-packages/sklearn/linear_model/_logistic.py:1256: FutureWarning: 'multi_class' was deprecated in version 1.5 and will be removed in 1.7. Use OneVsRestClassifier(LogisticRegression(..)) instead. Leave it to its default value to avoid this warning.\n",
            "  warnings.warn(\n",
            "/usr/local/lib/python3.11/dist-packages/sklearn/linear_model/_logistic.py:1256: FutureWarning: 'multi_class' was deprecated in version 1.5 and will be removed in 1.7. Use OneVsRestClassifier(LogisticRegression(..)) instead. Leave it to its default value to avoid this warning.\n",
            "  warnings.warn(\n"
          ]
        },
        {
          "output_type": "stream",
          "name": "stdout",
          "text": [
            "Random Forest CV Accuracy: 0.8697 ± 0.0177\n",
            "XGBoost CV Accuracy: 0.8697 ± 0.0112\n",
            "SVM CV Accuracy: 0.8346 ± 0.0193\n",
            "Stacking CV Accuracy: 0.8717 ± 0.0185\n"
          ]
        }
      ]
    },
    {
      "cell_type": "code",
      "source": [
        "import pandas as pd\n",
        "import numpy as np\n",
        "from sklearn.model_selection import train_test_split\n",
        "from sklearn.preprocessing import StandardScaler\n",
        "from sklearn.impute import KNNImputer\n",
        "from sklearn.ensemble import RandomForestClassifier, StackingClassifier\n",
        "from sklearn.svm import SVC\n",
        "from sklearn.linear_model import LogisticRegression\n",
        "from xgboost import XGBClassifier\n",
        "from sklearn.utils.class_weight import compute_class_weight\n",
        "import pickle\n",
        "\n",
        "# Load dataset\n",
        "df = pd.read_csv('heart.csv')\n",
        "\n",
        "# Convert to binary classification\n",
        "df['target_binary'] = df['num'].apply(lambda x: 0 if x == 0 else 1)\n",
        "\n",
        "# Define X and y\n",
        "X = df.drop(['num', 'target_binary'], axis=1)\n",
        "y = df['target_binary']\n",
        "\n",
        "# Handle categorical columns\n",
        "categorical_cols = X.select_dtypes(include=['object']).columns\n",
        "if len(categorical_cols) > 0:\n",
        "    X = pd.get_dummies(X, columns=categorical_cols, drop_first=True)\n",
        "\n",
        "# Update df with encoded columns\n",
        "df = pd.concat([X, df[['num', 'target_binary']]], axis=1)\n",
        "\n",
        "# Outlier removal function\n",
        "def remove_outliers(df, column):\n",
        "    if column not in df.columns:\n",
        "        print(f\"Column '{column}' not found in DataFrame. Skipping outlier removal for this column.\")\n",
        "        return df\n",
        "    Q1 = df[column].quantile(0.25)\n",
        "    Q3 = df[column].quantile(0.75)\n",
        "    IQR = Q3 - Q1\n",
        "    lower_bound = Q1 - 1.5 * IQR\n",
        "    upper_bound = Q3 + 1.5 * IQR\n",
        "    df = df[(df[column] >= lower_bound) & (df[column] <= upper_bound)]\n",
        "    return df\n",
        "\n",
        "# Apply outlier removal\n",
        "numeric_cols = ['age', 'trestbps', 'chol', 'max_heart_rate']\n",
        "for col in numeric_cols:\n",
        "    df = remove_outliers(df, col)\n",
        "\n",
        "# Recompute X and y\n",
        "X = df.drop(['num', 'target_binary'], axis=1)\n",
        "y = df['target_binary']\n",
        "\n",
        "\n",
        "# Split data\n",
        "X_train, X_test, y_train, y_test = train_test_split(X, y, test_size=0.2, random_state=42)\n",
        "\n",
        "# Impute with KNN\n",
        "imputer = KNNImputer(n_neighbors=5)\n",
        "X_train_imputed = imputer.fit_transform(X_train)\n",
        "X_test_imputed = imputer.transform(X_test)\n",
        "\n",
        "# Scale features\n",
        "scaler = StandardScaler()\n",
        "X_train_scaled = scaler.fit_transform(X_train_imputed)\n",
        "X_test_scaled = scaler.transform(X_test_imputed)\n",
        "\n",
        "# Compute class weights\n",
        "classes = np.unique(y_train)\n",
        "weights = compute_class_weight('balanced', classes=classes, y=y_train)\n",
        "\n",
        "# Define base models for stacking\n",
        "base_models = [\n",
        "    ('rf', RandomForestClassifier(n_estimators=200, max_depth=20, class_weight='balanced', random_state=42)),\n",
        "    ('xgb', XGBClassifier(n_estimators=100, learning_rate=0.1, max_depth=5, random_state=42, eval_metric='logloss')),\n",
        "    ('svm', SVC(kernel='rbf', probability=True, class_weight='balanced', random_state=42))\n",
        "]\n",
        "\n",
        "# Define stacking model\n",
        "stacking_model = StackingClassifier(estimators=base_models, final_estimator=LogisticRegression(max_iter=1000), cv=5)\n",
        "\n",
        "# Train the model\n",
        "stacking_model.fit(X_train_scaled, y_train)\n",
        "\n",
        "# Save the model, imputer, and scaler using pickle\n",
        "with open('stacking_model.pkl', 'wb') as f:\n",
        "    pickle.dump(stacking_model, f)\n",
        "with open('imputer.pkl', 'wb') as f:\n",
        "    pickle.dump(imputer, f)\n",
        "with open('scaler.pkl', 'wb') as f:\n",
        "    pickle.dump(scaler, f)\n",
        "\n",
        "print(\"Model, imputer, and scaler saved successfully!\")"
      ],
      "metadata": {
        "colab": {
          "base_uri": "https://localhost:8080/"
        },
        "id": "dAzUrv1X6dBr",
        "outputId": "7f381cb7-eda3-447d-eeb8-d80d24ce55bc"
      },
      "execution_count": null,
      "outputs": [
        {
          "output_type": "stream",
          "name": "stdout",
          "text": [
            "Column 'max_heart_rate' not found in DataFrame. Skipping outlier removal for this column.\n",
            "Model, imputer, and scaler saved successfully!\n"
          ]
        }
      ]
    },
    {
      "cell_type": "code",
      "source": [
        "import pandas as pd\n",
        "import numpy as np\n",
        "from sklearn.model_selection import train_test_split\n",
        "from sklearn.preprocessing import StandardScaler\n",
        "from sklearn.impute import KNNImputer\n",
        "from sklearn.ensemble import RandomForestClassifier, StackingClassifier\n",
        "from sklearn.svm import SVC\n",
        "from sklearn.linear_model import LogisticRegression\n",
        "from sklearn.metrics import roc_curve, auc, confusion_matrix, ConfusionMatrixDisplay\n",
        "from xgboost import XGBClassifier\n",
        "from sklearn.utils.class_weight import compute_class_weight\n",
        "import matplotlib.pyplot as plt\n",
        "import seaborn as sns\n",
        "\n",
        "# Load dataset\n",
        "df = pd.read_csv('heart.csv')\n",
        "\n",
        "# Convert to binary classification\n",
        "df['target_binary'] = df['num'].apply(lambda x: 0 if x == 0 else 1)\n",
        "\n",
        "# Define X and y\n",
        "X = df.drop(['num', 'target_binary'], axis=1)\n",
        "y = df['target_binary']\n",
        "\n",
        "# Handle categorical columns\n",
        "categorical_cols = X.select_dtypes(include=['object']).columns\n",
        "if len(categorical_cols) > 0:\n",
        "    X = pd.get_dummies(X, columns=categorical_cols, drop_first=True)\n",
        "\n",
        "# Update df with encoded columns\n",
        "df = pd.concat([X, df[['num', 'target_binary']]], axis=1)\n",
        "\n",
        "# Outlier removal function\n",
        "def remove_outliers(df, column):\n",
        "    if column not in df.columns:\n",
        "        print(f\"Column '{column}' not found in DataFrame. Skipping outlier removal for this column.\")\n",
        "        return df\n",
        "    Q1 = df[column].quantile(0.25)\n",
        "    Q3 = df[column].quantile(0.75)\n",
        "    IQR = Q3 - Q1\n",
        "    lower_bound = Q1 - 1.5 * IQR\n",
        "    upper_bound = Q3 + 1.5 * IQR\n",
        "    df = df[(df[column] >= lower_bound) & (df[column] <= upper_bound)]\n",
        "    return df\n",
        "\n",
        "# Apply outlier removal\n",
        "numeric_cols = ['age', 'trestbps', 'chol', 'max_heart_rate']\n",
        "for col in numeric_cols:\n",
        "    df = remove_outliers(df, col)\n",
        "\n",
        "# Recompute X and y\n",
        "X = df.drop(['num', 'target_binary'], axis=1)\n",
        "y = df['target_binary']\n",
        "\n",
        "\n",
        "\n",
        "# Split data\n",
        "X_train, X_test, y_train, y_test = train_test_split(X, y, test_size=0.2, random_state=42)\n",
        "\n",
        "# Impute with KNN\n",
        "imputer = KNNImputer(n_neighbors=5)\n",
        "X_train_imputed = imputer.fit_transform(X_train)\n",
        "X_test_imputed = imputer.transform(X_test)\n",
        "\n",
        "# Scale features\n",
        "scaler = StandardScaler()\n",
        "X_train_scaled = scaler.fit_transform(X_train_imputed)\n",
        "X_test_scaled = scaler.transform(X_test_imputed)\n",
        "\n",
        "# Compute class weights\n",
        "classes = np.unique(y_train)\n",
        "weights = compute_class_weight('balanced', classes=classes, y=y_train)\n",
        "\n",
        "# Define models\n",
        "rf_model = RandomForestClassifier(n_estimators=200, max_depth=20, class_weight='balanced', random_state=42)\n",
        "xgb_model = XGBClassifier(n_estimators=100, learning_rate=0.1, max_depth=5, random_state=42, eval_metric='logloss')\n",
        "svm_model = SVC(kernel='rbf', probability=True, class_weight='balanced', random_state=42)\n",
        "\n",
        "# Define base models for stacking\n",
        "base_models = [\n",
        "    ('rf', rf_model),\n",
        "    ('xgb', xgb_model),\n",
        "    ('svm', svm_model)\n",
        "]\n",
        "\n",
        "# Define stacking model\n",
        "stacking_model = StackingClassifier(estimators=base_models, final_estimator=LogisticRegression(max_iter=1000), cv=5)\n",
        "\n",
        "# Train models\n",
        "rf_model.fit(X_train_scaled, y_train)\n",
        "xgb_model.fit(X_train_scaled, y_train)\n",
        "stacking_model.fit(X_train_scaled, y_train)\n",
        "\n",
        "# Figure 1: ROC Curves for Top-Performing Models\n",
        "plt.figure(figsize=(8, 6))\n",
        "models = {'Random Forest': rf_model, 'XGBoost': xgb_model, 'Stacking Classifier': stacking_model}\n",
        "colors = ['blue', 'green', 'red']\n",
        "\n",
        "for (name, model), color in zip(models.items(), colors):\n",
        "    y_prob = model.predict_proba(X_test_scaled)[:, 1]\n",
        "    fpr, tpr, _ = roc_curve(y_test, y_prob)\n",
        "    roc_auc = auc(fpr, tpr)\n",
        "    plt.plot(fpr, tpr, color=color, lw=2, label=f'{name} (AUC = {roc_auc:.4f})')\n",
        "\n",
        "plt.plot([0, 1], [0, 1], color='gray', lw=1, linestyle='--')\n",
        "plt.xlim([0.0, 1.0])\n",
        "plt.ylim([0.0, 1.05])\n",
        "plt.xlabel('False Positive Rate')\n",
        "plt.ylabel('True Positive Rate')\n",
        "plt.title('Figure 1: ROC Curves for Top-Performing Models')\n",
        "plt.legend(loc=\"lower right\")\n",
        "plt.grid(True)\n",
        "plt.savefig('roc_curves.png', dpi=300, bbox_inches='tight')\n",
        "plt.close()\n",
        "\n",
        "# Figure 2: Confusion Matrix for Stacking Classifier\n",
        "y_pred = stacking_model.predict(X_test_scaled)\n",
        "cm = confusion_matrix(y_test, y_pred)\n",
        "disp = ConfusionMatrixDisplay(confusion_matrix=cm, display_labels=['No Disease', 'Disease'])\n",
        "\n",
        "plt.figure(figsize=(8, 6))\n",
        "disp.plot(cmap=plt.cm.Blues)\n",
        "plt.title('Figure 2: Confusion Matrix for Stacking Classifier')\n",
        "plt.savefig('confusion_matrix.png', dpi=300, bbox_inches='tight')\n",
        "plt.close()\n",
        "\n",
        "# Figure 3: Feature Importance from Random Forest\n",
        "feature_importance = pd.DataFrame({\n",
        "    'Feature': X.columns,\n",
        "    'Importance': rf_model.feature_importances_\n",
        "}).sort_values('Importance', ascending=False)\n",
        "\n",
        "plt.figure(figsize=(10, 6))\n",
        "sns.barplot(x='Importance', y='Feature', data=feature_importance)\n",
        "plt.title('Figure 3: Feature Importance from Random Forest')\n",
        "plt.xlabel('Importance')\n",
        "plt.ylabel('Feature')\n",
        "plt.savefig('feature_importance.png', dpi=300, bbox_inches='tight')\n",
        "plt.close()\n",
        "\n",
        "print(\"Figures saved as 'roc_curves.png', 'confusion_matrix.png', and 'feature_importance.png'\")"
      ],
      "metadata": {
        "colab": {
          "base_uri": "https://localhost:8080/",
          "height": 69
        },
        "id": "W-V-GvRCLCWf",
        "outputId": "46b0b733-f0e0-4d91-95dc-f1f7f62d3b7f"
      },
      "execution_count": null,
      "outputs": [
        {
          "output_type": "stream",
          "name": "stdout",
          "text": [
            "Column 'max_heart_rate' not found in DataFrame. Skipping outlier removal for this column.\n",
            "Figures saved as 'roc_curves.png', 'confusion_matrix.png', and 'feature_importance.png'\n"
          ]
        },
        {
          "output_type": "display_data",
          "data": {
            "text/plain": [
              "<Figure size 800x600 with 0 Axes>"
            ]
          },
          "metadata": {}
        }
      ]
    }
  ]
}